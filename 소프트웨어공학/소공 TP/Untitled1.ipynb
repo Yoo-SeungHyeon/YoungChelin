{
 "cells": [
  {
   "cell_type": "code",
   "execution_count": null,
   "id": "cfde5817-2642-4f4b-b29f-460f1aedc890",
   "metadata": {},
   "outputs": [],
   "source": []
  }
 ],
 "metadata": {
  "kernelspec": {
   "display_name": "Python 3 (ipykernel)",
   "language": "python",
   "name": "python3"
  },
  "language_info": {
   "codemirror_mode": {
    "name": "ipython",
    "version": 3
   },
   "file_extension": ".py",
   "mimetype": "text/x-python",
   "name": "python",
   "nbconvert_exporter": "python",
   "pygments_lexer": "ipython3",
   "version": "3.11.5"
  }
 },
 "nbformat": 4,
 "nbformat_minor": 5
}
