{
 "cells": [
  {
   "cell_type": "code",
   "execution_count": 1,
   "id": "b693a48a-efc0-4284-bbb8-75c61a421bb9",
   "metadata": {},
   "outputs": [
    {
     "name": "stdin",
     "output_type": "stream",
     "text": [
      "a값을 입력하세요 3\n"
     ]
    }
   ],
   "source": [
    "a = input(\"a값을 입력하세요\")"
   ]
  },
  {
   "cell_type": "code",
   "execution_count": 2,
   "id": "8b1271ed-94c8-4b62-a97d-20373800cfc3",
   "metadata": {},
   "outputs": [
    {
     "name": "stdout",
     "output_type": "stream",
     "text": [
      "3\n"
     ]
    }
   ],
   "source": [
    "print(a)"
   ]
  },
  {
   "cell_type": "code",
   "execution_count": 7,
   "id": "6bd4c6cf-8b65-4c7c-8356-9de4dc8d3acf",
   "metadata": {},
   "outputs": [
    {
     "name": "stdin",
     "output_type": "stream",
     "text": [
      "L1 Cache의 크기를 정해주세요 >>  4096\n"
     ]
    },
    {
     "name": "stdout",
     "output_type": "stream",
     "text": [
      "./sim-cache -redir:sim tp_gzip_il1_1.txt -max:inst 1000000 -cache:il1 il1:512:8:1:l -cache:il2 4096:512:4:r ../benchmark/gzip/gzip00.peak.ev6 ../benchmark/gzip/input.combined\n",
      "./sim-cache -redir:sim tp_gzip_il1_2.txt -max:inst 1000000 -cache:il1 il1:512:8:1:r -cache:il2 4096:512:4:r ../benchmark/gzip/gzip00.peak.ev6 ../benchmark/gzip/input.combined\n",
      "./sim-cache -redir:sim tp_gzip_il1_3.txt -max:inst 1000000 -cache:il1 il1:512:8:1:f -cache:il2 4096:512:4:r ../benchmark/gzip/gzip00.peak.ev6 ../benchmark/gzip/input.combined\n",
      "./sim-cache -redir:sim tp_gzip_il1_4.txt -max:inst 1000000 -cache:il1 il1:256:16:1:l -cache:il2 4096:512:4:r ../benchmark/gzip/gzip00.peak.ev6 ../benchmark/gzip/input.combined\n",
      "./sim-cache -redir:sim tp_gzip_il1_5.txt -max:inst 1000000 -cache:il1 il1:256:16:1:r -cache:il2 4096:512:4:r ../benchmark/gzip/gzip00.peak.ev6 ../benchmark/gzip/input.combined\n",
      "./sim-cache -redir:sim tp_gzip_il1_6.txt -max:inst 1000000 -cache:il1 il1:256:16:1:f -cache:il2 4096:512:4:r ../benchmark/gzip/gzip00.peak.ev6 ../benchmark/gzip/input.combined\n",
      "./sim-cache -redir:sim tp_gzip_il1_7.txt -max:inst 1000000 -cache:il1 il1:128:32:1:l -cache:il2 4096:512:4:r ../benchmark/gzip/gzip00.peak.ev6 ../benchmark/gzip/input.combined\n",
      "./sim-cache -redir:sim tp_gzip_il1_8.txt -max:inst 1000000 -cache:il1 il1:128:32:1:r -cache:il2 4096:512:4:r ../benchmark/gzip/gzip00.peak.ev6 ../benchmark/gzip/input.combined\n",
      "./sim-cache -redir:sim tp_gzip_il1_9.txt -max:inst 1000000 -cache:il1 il1:128:32:1:f -cache:il2 4096:512:4:r ../benchmark/gzip/gzip00.peak.ev6 ../benchmark/gzip/input.combined\n",
      "./sim-cache -redir:sim tp_gzip_il1_10.txt -max:inst 1000000 -cache:il1 il1:64:64:1:l -cache:il2 4096:512:4:r ../benchmark/gzip/gzip00.peak.ev6 ../benchmark/gzip/input.combined\n",
      "./sim-cache -redir:sim tp_gzip_il1_11.txt -max:inst 1000000 -cache:il1 il1:64:64:1:r -cache:il2 4096:512:4:r ../benchmark/gzip/gzip00.peak.ev6 ../benchmark/gzip/input.combined\n",
      "./sim-cache -redir:sim tp_gzip_il1_12.txt -max:inst 1000000 -cache:il1 il1:64:64:1:f -cache:il2 4096:512:4:r ../benchmark/gzip/gzip00.peak.ev6 ../benchmark/gzip/input.combined\n",
      "./sim-cache -redir:sim tp_gzip_il1_13.txt -max:inst 1000000 -cache:il1 il1:33:123:1:l -cache:il2 4096:512:4:r ../benchmark/gzip/gzip00.peak.ev6 ../benchmark/gzip/input.combined\n",
      "./sim-cache -redir:sim tp_gzip_il1_14.txt -max:inst 1000000 -cache:il1 il1:33:123:1:r -cache:il2 4096:512:4:r ../benchmark/gzip/gzip00.peak.ev6 ../benchmark/gzip/input.combined\n",
      "./sim-cache -redir:sim tp_gzip_il1_15.txt -max:inst 1000000 -cache:il1 il1:33:123:1:f -cache:il2 4096:512:4:r ../benchmark/gzip/gzip00.peak.ev6 ../benchmark/gzip/input.combined\n",
      "./sim-cache -redir:sim tp_gzip_il1_16.txt -max:inst 1000000 -cache:il1 il1:16:256:1:l -cache:il2 4096:512:4:r ../benchmark/gzip/gzip00.peak.ev6 ../benchmark/gzip/input.combined\n",
      "./sim-cache -redir:sim tp_gzip_il1_17.txt -max:inst 1000000 -cache:il1 il1:16:256:1:r -cache:il2 4096:512:4:r ../benchmark/gzip/gzip00.peak.ev6 ../benchmark/gzip/input.combined\n",
      "./sim-cache -redir:sim tp_gzip_il1_18.txt -max:inst 1000000 -cache:il1 il1:16:256:1:f -cache:il2 4096:512:4:r ../benchmark/gzip/gzip00.peak.ev6 ../benchmark/gzip/input.combined\n",
      "./sim-cache -redir:sim tp_gzip_il1_19.txt -max:inst 1000000 -cache:il1 il1:8:512:1:l -cache:il2 4096:512:4:r ../benchmark/gzip/gzip00.peak.ev6 ../benchmark/gzip/input.combined\n",
      "./sim-cache -redir:sim tp_gzip_il1_20.txt -max:inst 1000000 -cache:il1 il1:8:512:1:r -cache:il2 4096:512:4:r ../benchmark/gzip/gzip00.peak.ev6 ../benchmark/gzip/input.combined\n",
      "./sim-cache -redir:sim tp_gzip_il1_21.txt -max:inst 1000000 -cache:il1 il1:8:512:1:f -cache:il2 4096:512:4:r ../benchmark/gzip/gzip00.peak.ev6 ../benchmark/gzip/input.combined\n",
      "./sim-cache -redir:sim tp_gzip_il1_22.txt -max:inst 1000000 -cache:il1 il1:256:8:2:l -cache:il2 4096:512:4:r ../benchmark/gzip/gzip00.peak.ev6 ../benchmark/gzip/input.combined\n",
      "./sim-cache -redir:sim tp_gzip_il1_23.txt -max:inst 1000000 -cache:il1 il1:256:8:2:r -cache:il2 4096:512:4:r ../benchmark/gzip/gzip00.peak.ev6 ../benchmark/gzip/input.combined\n",
      "./sim-cache -redir:sim tp_gzip_il1_24.txt -max:inst 1000000 -cache:il1 il1:256:8:2:f -cache:il2 4096:512:4:r ../benchmark/gzip/gzip00.peak.ev6 ../benchmark/gzip/input.combined\n",
      "./sim-cache -redir:sim tp_gzip_il1_25.txt -max:inst 1000000 -cache:il1 il1:128:16:2:l -cache:il2 4096:512:4:r ../benchmark/gzip/gzip00.peak.ev6 ../benchmark/gzip/input.combined\n",
      "./sim-cache -redir:sim tp_gzip_il1_26.txt -max:inst 1000000 -cache:il1 il1:128:16:2:r -cache:il2 4096:512:4:r ../benchmark/gzip/gzip00.peak.ev6 ../benchmark/gzip/input.combined\n",
      "./sim-cache -redir:sim tp_gzip_il1_27.txt -max:inst 1000000 -cache:il1 il1:128:16:2:f -cache:il2 4096:512:4:r ../benchmark/gzip/gzip00.peak.ev6 ../benchmark/gzip/input.combined\n",
      "./sim-cache -redir:sim tp_gzip_il1_28.txt -max:inst 1000000 -cache:il1 il1:64:32:2:l -cache:il2 4096:512:4:r ../benchmark/gzip/gzip00.peak.ev6 ../benchmark/gzip/input.combined\n",
      "./sim-cache -redir:sim tp_gzip_il1_29.txt -max:inst 1000000 -cache:il1 il1:64:32:2:r -cache:il2 4096:512:4:r ../benchmark/gzip/gzip00.peak.ev6 ../benchmark/gzip/input.combined\n",
      "./sim-cache -redir:sim tp_gzip_il1_30.txt -max:inst 1000000 -cache:il1 il1:64:32:2:f -cache:il2 4096:512:4:r ../benchmark/gzip/gzip00.peak.ev6 ../benchmark/gzip/input.combined\n",
      "./sim-cache -redir:sim tp_gzip_il1_31.txt -max:inst 1000000 -cache:il1 il1:32:64:2:l -cache:il2 4096:512:4:r ../benchmark/gzip/gzip00.peak.ev6 ../benchmark/gzip/input.combined\n",
      "./sim-cache -redir:sim tp_gzip_il1_32.txt -max:inst 1000000 -cache:il1 il1:32:64:2:r -cache:il2 4096:512:4:r ../benchmark/gzip/gzip00.peak.ev6 ../benchmark/gzip/input.combined\n",
      "./sim-cache -redir:sim tp_gzip_il1_33.txt -max:inst 1000000 -cache:il1 il1:32:64:2:f -cache:il2 4096:512:4:r ../benchmark/gzip/gzip00.peak.ev6 ../benchmark/gzip/input.combined\n",
      "./sim-cache -redir:sim tp_gzip_il1_34.txt -max:inst 1000000 -cache:il1 il1:16:123:2:l -cache:il2 4096:512:4:r ../benchmark/gzip/gzip00.peak.ev6 ../benchmark/gzip/input.combined\n",
      "./sim-cache -redir:sim tp_gzip_il1_35.txt -max:inst 1000000 -cache:il1 il1:16:123:2:r -cache:il2 4096:512:4:r ../benchmark/gzip/gzip00.peak.ev6 ../benchmark/gzip/input.combined\n",
      "./sim-cache -redir:sim tp_gzip_il1_36.txt -max:inst 1000000 -cache:il1 il1:16:123:2:f -cache:il2 4096:512:4:r ../benchmark/gzip/gzip00.peak.ev6 ../benchmark/gzip/input.combined\n",
      "./sim-cache -redir:sim tp_gzip_il1_37.txt -max:inst 1000000 -cache:il1 il1:8:256:2:l -cache:il2 4096:512:4:r ../benchmark/gzip/gzip00.peak.ev6 ../benchmark/gzip/input.combined\n",
      "./sim-cache -redir:sim tp_gzip_il1_38.txt -max:inst 1000000 -cache:il1 il1:8:256:2:r -cache:il2 4096:512:4:r ../benchmark/gzip/gzip00.peak.ev6 ../benchmark/gzip/input.combined\n",
      "./sim-cache -redir:sim tp_gzip_il1_39.txt -max:inst 1000000 -cache:il1 il1:8:256:2:f -cache:il2 4096:512:4:r ../benchmark/gzip/gzip00.peak.ev6 ../benchmark/gzip/input.combined\n",
      "./sim-cache -redir:sim tp_gzip_il1_40.txt -max:inst 1000000 -cache:il1 il1:4:512:2:l -cache:il2 4096:512:4:r ../benchmark/gzip/gzip00.peak.ev6 ../benchmark/gzip/input.combined\n",
      "./sim-cache -redir:sim tp_gzip_il1_41.txt -max:inst 1000000 -cache:il1 il1:4:512:2:r -cache:il2 4096:512:4:r ../benchmark/gzip/gzip00.peak.ev6 ../benchmark/gzip/input.combined\n",
      "./sim-cache -redir:sim tp_gzip_il1_42.txt -max:inst 1000000 -cache:il1 il1:4:512:2:f -cache:il2 4096:512:4:r ../benchmark/gzip/gzip00.peak.ev6 ../benchmark/gzip/input.combined\n",
      "./sim-cache -redir:sim tp_gzip_il1_43.txt -max:inst 1000000 -cache:il1 il1:128:8:4:l -cache:il2 4096:512:4:r ../benchmark/gzip/gzip00.peak.ev6 ../benchmark/gzip/input.combined\n",
      "./sim-cache -redir:sim tp_gzip_il1_44.txt -max:inst 1000000 -cache:il1 il1:128:8:4:r -cache:il2 4096:512:4:r ../benchmark/gzip/gzip00.peak.ev6 ../benchmark/gzip/input.combined\n",
      "./sim-cache -redir:sim tp_gzip_il1_45.txt -max:inst 1000000 -cache:il1 il1:128:8:4:f -cache:il2 4096:512:4:r ../benchmark/gzip/gzip00.peak.ev6 ../benchmark/gzip/input.combined\n",
      "./sim-cache -redir:sim tp_gzip_il1_46.txt -max:inst 1000000 -cache:il1 il1:64:16:4:l -cache:il2 4096:512:4:r ../benchmark/gzip/gzip00.peak.ev6 ../benchmark/gzip/input.combined\n",
      "./sim-cache -redir:sim tp_gzip_il1_47.txt -max:inst 1000000 -cache:il1 il1:64:16:4:r -cache:il2 4096:512:4:r ../benchmark/gzip/gzip00.peak.ev6 ../benchmark/gzip/input.combined\n",
      "./sim-cache -redir:sim tp_gzip_il1_48.txt -max:inst 1000000 -cache:il1 il1:64:16:4:f -cache:il2 4096:512:4:r ../benchmark/gzip/gzip00.peak.ev6 ../benchmark/gzip/input.combined\n",
      "./sim-cache -redir:sim tp_gzip_il1_49.txt -max:inst 1000000 -cache:il1 il1:32:32:4:l -cache:il2 4096:512:4:r ../benchmark/gzip/gzip00.peak.ev6 ../benchmark/gzip/input.combined\n",
      "./sim-cache -redir:sim tp_gzip_il1_50.txt -max:inst 1000000 -cache:il1 il1:32:32:4:r -cache:il2 4096:512:4:r ../benchmark/gzip/gzip00.peak.ev6 ../benchmark/gzip/input.combined\n",
      "./sim-cache -redir:sim tp_gzip_il1_51.txt -max:inst 1000000 -cache:il1 il1:32:32:4:f -cache:il2 4096:512:4:r ../benchmark/gzip/gzip00.peak.ev6 ../benchmark/gzip/input.combined\n",
      "./sim-cache -redir:sim tp_gzip_il1_52.txt -max:inst 1000000 -cache:il1 il1:16:64:4:l -cache:il2 4096:512:4:r ../benchmark/gzip/gzip00.peak.ev6 ../benchmark/gzip/input.combined\n",
      "./sim-cache -redir:sim tp_gzip_il1_53.txt -max:inst 1000000 -cache:il1 il1:16:64:4:r -cache:il2 4096:512:4:r ../benchmark/gzip/gzip00.peak.ev6 ../benchmark/gzip/input.combined\n",
      "./sim-cache -redir:sim tp_gzip_il1_54.txt -max:inst 1000000 -cache:il1 il1:16:64:4:f -cache:il2 4096:512:4:r ../benchmark/gzip/gzip00.peak.ev6 ../benchmark/gzip/input.combined\n",
      "./sim-cache -redir:sim tp_gzip_il1_55.txt -max:inst 1000000 -cache:il1 il1:8:123:4:l -cache:il2 4096:512:4:r ../benchmark/gzip/gzip00.peak.ev6 ../benchmark/gzip/input.combined\n",
      "./sim-cache -redir:sim tp_gzip_il1_56.txt -max:inst 1000000 -cache:il1 il1:8:123:4:r -cache:il2 4096:512:4:r ../benchmark/gzip/gzip00.peak.ev6 ../benchmark/gzip/input.combined\n",
      "./sim-cache -redir:sim tp_gzip_il1_57.txt -max:inst 1000000 -cache:il1 il1:8:123:4:f -cache:il2 4096:512:4:r ../benchmark/gzip/gzip00.peak.ev6 ../benchmark/gzip/input.combined\n",
      "./sim-cache -redir:sim tp_gzip_il1_58.txt -max:inst 1000000 -cache:il1 il1:4:256:4:l -cache:il2 4096:512:4:r ../benchmark/gzip/gzip00.peak.ev6 ../benchmark/gzip/input.combined\n",
      "./sim-cache -redir:sim tp_gzip_il1_59.txt -max:inst 1000000 -cache:il1 il1:4:256:4:r -cache:il2 4096:512:4:r ../benchmark/gzip/gzip00.peak.ev6 ../benchmark/gzip/input.combined\n",
      "./sim-cache -redir:sim tp_gzip_il1_60.txt -max:inst 1000000 -cache:il1 il1:4:256:4:f -cache:il2 4096:512:4:r ../benchmark/gzip/gzip00.peak.ev6 ../benchmark/gzip/input.combined\n",
      "./sim-cache -redir:sim tp_gzip_il1_61.txt -max:inst 1000000 -cache:il1 il1:2:512:4:l -cache:il2 4096:512:4:r ../benchmark/gzip/gzip00.peak.ev6 ../benchmark/gzip/input.combined\n",
      "./sim-cache -redir:sim tp_gzip_il1_62.txt -max:inst 1000000 -cache:il1 il1:2:512:4:r -cache:il2 4096:512:4:r ../benchmark/gzip/gzip00.peak.ev6 ../benchmark/gzip/input.combined\n",
      "./sim-cache -redir:sim tp_gzip_il1_63.txt -max:inst 1000000 -cache:il1 il1:2:512:4:f -cache:il2 4096:512:4:r ../benchmark/gzip/gzip00.peak.ev6 ../benchmark/gzip/input.combined\n"
     ]
    }
   ],
   "source": [
    "size = int(input(\"L1 Cache의 크기를 정해주세요 >> \"))\n",
    "assoc = [1,2,4]\n",
    "bsize = [8,16,32,64,123,256,512]\n",
    "repl = ['l','r','f']\n",
    "il2 = \"il2:1024:512:4:r\"\n",
    "\n",
    "i = 0\n",
    "for il1as in assoc:\n",
    "    for il1bs in bsize:\n",
    "        il1ns = int(size/il1as/il1bs)\n",
    "        for il1re in repl:\n",
    "            i = i+1\n",
    "            il1 = \"il1:{}:{}:{}:{}\".format(il1ns,il1bs,il1as,il1re)\n",
    "            filename = \"tp_gzip_il1_{}\".format(i)\n",
    "            commend = \"./sim-cache -redir:sim {}.txt -max:inst 1000000 -cache:il1 {} -cache:il2 4096:512:4:r ../benchmark/gzip/gzip00.peak.ev6 ../benchmark/gzip/input.combined\".format(filename, il1)\n",
    "            system(commend)"
   ]
  },
  {
   "cell_type": "code",
   "execution_count": null,
   "id": "513450ac-7912-4d5e-8647-b299020647ee",
   "metadata": {},
   "outputs": [],
   "source": [
    "il2:4096:1024:1:r\n",
    "\n",
    "il1:512:8:1:l\n",
    "il1:256:16:1:l\n",
    "il1:128:32:1:l\n",
    "il1:64:64:1:l\n",
    "il1:32:128:1:l\n",
    "il1:16:256:1:l\n",
    "il1:8:512:1:l\n",
    "\n",
    "\n",
    "for i in range(7):\n",
    "    bsize = 2**(3+i)\n",
    "    nsets = int(4096/bsize)\n",
    "    commene = \"./sim-cache -redir:sim tp_il1_{}_{} -max:inst 1000000 -cache:il1 il1:{}:{}:i:l -cache:il2 il2:4096:1024:1:r ../benchmark/gcc/gcc00.peak.ev6 ../benchmark/gcc/cp-decl.i\""
   ]
  },
  {
   "cell_type": "code",
   "execution_count": null,
   "id": "40645451-a1f2-4585-b318-3a7d9d130fb6",
   "metadata": {},
   "outputs": [],
   "source": []
  },
  {
   "cell_type": "code",
   "execution_count": null,
   "id": "53b933f1-2027-45c6-ace6-4645357a2d6c",
   "metadata": {},
   "outputs": [],
   "source": []
  }
 ],
 "metadata": {
  "kernelspec": {
   "display_name": "Python 3 (ipykernel)",
   "language": "python",
   "name": "python3"
  },
  "language_info": {
   "codemirror_mode": {
    "name": "ipython",
    "version": 3
   },
   "file_extension": ".py",
   "mimetype": "text/x-python",
   "name": "python",
   "nbconvert_exporter": "python",
   "pygments_lexer": "ipython3",
   "version": "3.11.5"
  }
 },
 "nbformat": 4,
 "nbformat_minor": 5
}
