{
 "cells": [
  {
   "cell_type": "code",
   "execution_count": 1,
   "id": "2d73c410-5df2-4de2-98f3-149f80f3bac0",
   "metadata": {},
   "outputs": [],
   "source": [
    "import pymysql\n",
    "import numpy as np\n",
    "import pandas as pd"
   ]
  },
  {
   "cell_type": "code",
   "execution_count": 2,
   "id": "580a295d-0c52-4e45-bc8e-e88a7fe63466",
   "metadata": {},
   "outputs": [],
   "source": [
    "def get_mean_taste():\n",
    "    conn = pymysql.connect(host = \"localhost\",\n",
    "                user= \"root\", password = \"1234\", charset = \"utf8\")\n",
    "    cursor = conn.cursor()\n",
    "    cursor.execute(\"select menu_id, restaurant_id,AVG(flavor) from young_cheline.evaluate group by menu_id, restaurant_id;\")\n",
    "    res = cursor.fetchall()\n",
    "    return res"
   ]
  },
  {
   "cell_type": "code",
   "execution_count": 3,
   "id": "861d5729-f077-4f52-b63e-0b60dcafbde4",
   "metadata": {},
   "outputs": [],
   "source": [
    "def get_count():\n",
    "    conn = pymysql.connect(host = \"localhost\",\n",
    "                user= \"root\", password = \"1234\", charset = \"utf8\")\n",
    "    cursor = conn.cursor()\n",
    "    cursor.execute(\"select count(*) from young_cheline.evaluate group by menu_id;\")\n",
    "    g_menu_id = cursor.fetchall()\n",
    "\n",
    "    cursor.execute('''SELECT menu_id, COUNT(CASE WHEN couple LIKE '0' THEN 1 END) AS specific_count\n",
    "        FROM young_cheline.evaluate\n",
    "        GROUP BY menu_id;''')\n",
    "    \n",
    "    couple = cursor.fetchall()\n",
    "    \n",
    "    cursor.execute('''SELECT menu_id, COUNT(CASE WHEN family LIKE '1' THEN 1 END) AS specific_count\n",
    "        FROM young_cheline.evaluate\n",
    "        GROUP BY menu_id;''')\n",
    "    \n",
    "    family = cursor.fetchall()\n",
    "\n",
    "    cursor.execute('''SELECT menu_id, COUNT(CASE WHEN solo LIKE '2' THEN 1 END) AS specific_count\n",
    "        FROM young_cheline.evaluate\n",
    "        GROUP BY menu_id;''')\n",
    "    \n",
    "    solo = cursor.fetchall()\n",
    "\n",
    "    cursor.execute('''SELECT menu_id, COUNT(CASE WHEN drink LIKE '3' THEN 1 END) AS specific_count\n",
    "                    FROM young_cheline.evaluate\n",
    "                    GROUP BY menu_id;''')\n",
    "    \n",
    "    drink = cursor.fetchall()\n",
    "\n",
    "    cursor.execute('''SELECT menu_id, COUNT(CASE WHEN friend LIKE '4' THEN 1 END) AS specific_count\n",
    "        FROM young_cheline.evaluate\n",
    "        GROUP BY menu_id;''')\n",
    "    \n",
    "    friend = cursor.fetchall()\n",
    "\n",
    "    cursor.execute('''SELECT menu_id, AVG(NULLIF(cleaning, '')),AVG(NULLIF(plating, '')),AVG(NULLIF(price, '')),AVG(NULLIF(service, ''))\n",
    "        FROM young_cheline.evaluate\n",
    "        GROUP BY menu_id;''')\n",
    "    \n",
    "    avg_exxtra = cursor.fetchall()\n",
    "\n",
    "    cursor.execute('''SELECT menu_name FROM young_cheline.menu;''')\n",
    "    menu_name = cursor.fetchall()\n",
    "\n",
    "    eva = get_mean_taste()\n",
    "\n",
    "    for menu_id in range(len(g_menu_id)):\n",
    "        menu_count =g_menu_id[menu_id][0] #메뉴별 평가 갯수\n",
    "        \n",
    "        menu = eva[menu_id][0]\n",
    "        restaurant_id = eva[menu_id][1]\n",
    "        avg_flavor = eva[menu_id][2]\n",
    "        avg_flavor = round(avg_flavor)\n",
    "        in_menu_name = menu_name[menu_id][0]\n",
    "\n",
    "        cleaning = avg_exxtra[menu_id][1]\n",
    "        cleaning = round(cleaning) if isinstance(cleaning, float) else cleaning\n",
    "\n",
    "        plating = avg_exxtra[menu_id][2]\n",
    "        plating = round(cleaning) if isinstance(cleaning, float) else cleaning\n",
    "\n",
    "        price = avg_exxtra[menu_id][3]\n",
    "        price = round(cleaning) if isinstance(cleaning, float) else cleaning\n",
    "        \n",
    "        service = avg_exxtra[menu_id][4]\n",
    "        service = round(cleaning) if isinstance(cleaning, float) else cleaning\n",
    "\n",
    "        ## mood\n",
    "        solo2 = 2 if  (solo[menu_id][1]/ menu_count) >0.8 else None\n",
    "        couple0 = 0 if  (couple[menu_id][1]/ menu_count) >0.8 else None\n",
    "        drink3 = 3 if  (drink[menu_id][1]/ menu_count) >0.8 else None\n",
    "        family1 = 1 if  (family[menu_id][1]/ menu_count) >0.8 else None\n",
    "        friend4 = 4 if  (friend[menu_id][1]/ menu_count) >0.8 else None\n",
    "\n",
    "        cursor.execute('''INSERT INTO young_cheline.restaurant_evaluate\n",
    "            (menu_id,menu_name, cleaning, plating, price, restaurant_id, service, flavor, couple, drink, family, friend, solo)\n",
    "            VALUES (%s, %s, %s, %s, %s, %s, %s, %s, %s, %s, %s, %s, %s)''',\n",
    "                       (menu, in_menu_name,cleaning, plating, price, restaurant_id, service, avg_flavor, couple0, drink3, family1, friend4, solo2))\n",
    "\n",
    "    \n",
    "    conn.commit()\n"
   ]
  },
  {
   "cell_type": "code",
   "execution_count": 4,
   "id": "4414cd02-5ea2-4715-a103-20c8d9cff4fb",
   "metadata": {},
   "outputs": [],
   "source": [
    "if __name__ == \"__main__\":\n",
    "    res = get_count()"
   ]
  },
  {
   "cell_type": "code",
   "execution_count": 5,
   "id": "532aeb76-8370-4d65-a98c-668621c11257",
   "metadata": {},
   "outputs": [],
   "source": [
    "import pymysql\n",
    "import pandas as pd\n",
    "from sklearn.metrics.pairwise import cosine_similarity\n",
    "from datetime import datetime"
   ]
  },
  {
   "cell_type": "code",
   "execution_count": 7,
   "id": "d44f09ee-8bf3-44e7-870e-e57340bb7582",
   "metadata": {},
   "outputs": [],
   "source": [
    "def get_data():\n",
    "    conn = pymysql.connect(host = \"localhost\",\n",
    "                user= \"root\", password = \"1234\", charset = \"utf8\")\n",
    "    cursor = conn.cursor()\n",
    "    cursor.execute(\"SELECT flavor, menu_id, user_name FROM young_cheline.evaluate;\")\n",
    "    res = cursor.fetchall()\n",
    "    return res"
   ]
  },
  {
   "cell_type": "code",
   "execution_count": 8,
   "id": "7eb5676e-72b4-4460-b087-dbb985e8ef3c",
   "metadata": {},
   "outputs": [],
   "source": [
    "def make_ptable(df):\n",
    "    ptable = df.pivot_table(values = 'flavor', index = 'menu_id', columns = 'user_name') \n",
    "    \n",
    "    return ptable"
   ]
  },
  {
   "cell_type": "code",
   "execution_count": 9,
   "id": "5b2235be-058a-456e-bdc1-f87c7d251f4d",
   "metadata": {},
   "outputs": [],
   "source": [
    "def cosine(ptable):\n",
    "    ptable = ptable.fillna(0)\n",
    "    menu_id = ptable.index\n",
    "\n",
    "    cos = cosine_similarity(ptable)\n",
    "    cos = pd.DataFrame(data = cos, index=menu_id, columns=menu_id)\n",
    "    return cos"
   ]
  },
  {
   "cell_type": "code",
   "execution_count": 10,
   "id": "2101f18e-6bb4-4379-86d8-f85a4bb36949",
   "metadata": {},
   "outputs": [],
   "source": [
    "def search_cos(cos,pt, user_id: str):\n",
    "    ex = pt.assign(menu=pt.index.to_list())\n",
    "\n",
    "    pt=ex.loc[ex[user_id].notnull(), [user_id, 'menu']] \n",
    "    user_cos=cos[pt['menu']] ## cos 확인 \n",
    "    user_cos=user_cos[~user_cos.isin(user_cos.loc[pt['menu']])].dropna()\n",
    "    X_vector = pt.iloc[:,[0]].values/10+1\n",
    "    Y_matrix= user_cos.to_numpy()\n",
    "    Matrix_product=Y_matrix.dot(X_vector)\n",
    "    user_cos['Sum']=Matrix_product\n",
    "    user_recomand=user_cos.sort_values('Sum',ascending=False).head(10).index.to_list()\n",
    "    return user_recomand"
   ]
  },
  {
   "cell_type": "code",
   "execution_count": 11,
   "id": "de8ed124-8ee8-4acb-ae46-f4705532e0ed",
   "metadata": {},
   "outputs": [],
   "source": [
    "def data_open():\n",
    "    data = get_data()\n",
    "    df = pd.DataFrame(data, columns=['flavor', 'menu_id','user_name'])\n",
    "    df['flavor'] = df['flavor'].astype(int)\n",
    "    return df"
   ]
  },
  {
   "cell_type": "code",
   "execution_count": 12,
   "id": "00f38f25-8e43-4cfd-ba7c-18f1d3699f56",
   "metadata": {},
   "outputs": [],
   "source": [
    "def recommand(user_id):\n",
    "    df=data_open()\n",
    "    ptable = make_ptable(df)\n",
    "    cos = cosine(ptable)\n",
    "    a = search_cos(cos,ptable, user_id=user_id)\n",
    "    print(user_id,a)\n",
    "    return user_id, a"
   ]
  },
  {
   "cell_type": "code",
   "execution_count": 15,
   "id": "71a574c2-9769-488b-9fe3-f375d36ac6f1",
   "metadata": {},
   "outputs": [],
   "source": [
    "def insert_db(list):\n",
    "    conn = pymysql.connect(host = \"localhost\",\n",
    "                user= \"root\", password = \"1234\", charset = \"utf8\")\n",
    "    cursor = conn.cursor()\n",
    "\n",
    "    for a in list:\n",
    "        menu_id = a[0]\n",
    "        user_name = a[1]\n",
    "        current_time = datetime.now()\n",
    "        cursor.execute('''INSERT INTO young_cheline.recommend (menu_id,user_name,time)\n",
    "                        VALUES (%s, %s,%s);''',(menu_id, user_name,current_time))\n",
    "    conn.commit()"
   ]
  },
  {
   "cell_type": "code",
   "execution_count": 16,
   "id": "0b09045a-2df2-4ca7-907b-2e354804cc6b",
   "metadata": {},
   "outputs": [
    {
     "name": "stdout",
     "output_type": "stream",
     "text": [
      "ehddbs4521 [33, 26, 30, 7, 21, 16, 29, 15, 14, 19]\n"
     ]
    }
   ],
   "source": [
    "if __name__ == '__main__':\n",
    "    user, reco=recommand('ehddbs4521')\n",
    "    list=[]\n",
    "    us = 'ehddbs4521'\n",
    "    for i in reco:\n",
    "        list.append([i,us])\n",
    "\n",
    "    insert_db(list)"
   ]
  },
  {
   "cell_type": "code",
   "execution_count": null,
   "id": "7da03dd1-f21f-4cd2-8133-6005fb109253",
   "metadata": {},
   "outputs": [],
   "source": []
  }
 ],
 "metadata": {
  "kernelspec": {
   "display_name": "Python 3 (ipykernel)",
   "language": "python",
   "name": "python3"
  },
  "language_info": {
   "codemirror_mode": {
    "name": "ipython",
    "version": 3
   },
   "file_extension": ".py",
   "mimetype": "text/x-python",
   "name": "python",
   "nbconvert_exporter": "python",
   "pygments_lexer": "ipython3",
   "version": "3.11.5"
  }
 },
 "nbformat": 4,
 "nbformat_minor": 5
}
